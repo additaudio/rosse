{
 "cells": [
  {
   "cell_type": "markdown",
   "metadata": {},
   "source": [
    "# R-OSSE\n",
    "\n",
    "\n",
    "\n",
    "The R-OSSE set of parametric equations (M. Batík 2022) define a complete waveguide terminated into a free space by means of a convenient analytical description. For more info see: https://at-horns.eu/release/R-OSSE%20Waveguide%20rev7.pdf \n",
    "\n",
    "#### Design - Parameter Description - Unit\n",
    "\n",
    "R   - Waveguide outer radius          - [mm]\n",
    "\n",
    "a   - Nominal coverage angle (*0.5)   - [deg]\n",
    "\n",
    "r0  - Throat radius                   - [mm]\n",
    "\n",
    "a0  - Throat opening angle (*0.5)     - [deg]\n",
    "\n",
    "k   - Throat expansion factor         - [-]\n",
    "\n",
    "r   - Apex radius factor              - [-]\n",
    "\n",
    "m   - Apex shift factor               - [-]\n",
    "\n",
    "b   - Bending factor                  - [-]\n",
    "\n",
    "q   - Throat shape factor             - [-]"
   ]
  },
  {
   "cell_type": "code",
   "execution_count": null,
   "metadata": {},
   "outputs": [],
   "source": [
    "import numpy as np\n",
    "from matplotlib import pyplot as plt"
   ]
  },
  {
   "cell_type": "code",
   "execution_count": 2,
   "metadata": {},
   "outputs": [],
   "source": [
    "def degrees_to_radian(angle):\n",
    "    return angle / 360 * 2 * np.pi"
   ]
  },
  {
   "cell_type": "code",
   "execution_count": 3,
   "metadata": {},
   "outputs": [],
   "source": [
    "def common_parameters(k, alpha_0, r_0, alpha, R):\n",
    "    alpha_0 = degrees_to_radian(alpha_0)\n",
    "    alpha = degrees_to_radian(alpha)\n",
    "    c_1 = (k * r_0) ** 2\n",
    "    c_2 = 2 * k * r_0 * np.tan(alpha_0)\n",
    "    c_3 = np.tan(alpha) ** 2\n",
    "    L = (1 / (2 * c_3)) * np.sqrt(\n",
    "        c_2**2 - 4 * c_3 * (c_1 - (R + r_0 * (k - 1)) ** 2)\n",
    "    ) - c_2\n",
    "    return c_1, c_2, c_3, L"
   ]
  },
  {
   "cell_type": "code",
   "execution_count": 4,
   "metadata": {},
   "outputs": [],
   "source": [
    "def Xt(\n",
    "    t,\n",
    "    k,\n",
    "    alpha_0,\n",
    "    r_0,\n",
    "    alpha,\n",
    "    q,\n",
    "    r,\n",
    "    m,\n",
    "    b,\n",
    "    R,\n",
    "):\n",
    "    c_1, c_2, c_3, L = common_parameters(k, alpha_0, r_0, alpha, R)\n",
    "    x_1 = L * (np.sqrt(r**2 + m**2) - np.sqrt(r**2 + (t - m) ** 2))\n",
    "    x_2 = b * L * (np.sqrt(r**2 + (1 - m) ** 2) - np.sqrt(r**2 + m**2)) * t**2\n",
    "    return x_1 + x_2"
   ]
  },
  {
   "cell_type": "code",
   "execution_count": 5,
   "metadata": {},
   "outputs": [],
   "source": [
    "def Yt(\n",
    "    t,\n",
    "    k,\n",
    "    alpha_0,\n",
    "    r_0,\n",
    "    alpha,\n",
    "    q,\n",
    "    r,\n",
    "    m,\n",
    "    b,\n",
    "    R,\n",
    "):\n",
    "    c_1, c_2, c_3, L = common_parameters(k, alpha_0, r_0, alpha, R)\n",
    "    y_1 = np.sqrt(c_1 + c_2 * L * t + c_3 * (L * t) ** 2) + r_0 * (1 - k)\n",
    "    y_2 = R + L * (1 - np.sqrt(1 + c_3 * (t - 1) ** 2))\n",
    "    return (1 - t**q) * y_1 + (t**q) * y_2"
   ]
  },
  {
   "cell_type": "markdown",
   "metadata": {},
   "source": [
    "## Example\n",
    "This is an approximation of the device known as ST260, made freely available for audio hobbyists by M. Batík. "
   ]
  },
  {
   "cell_type": "code",
   "execution_count": 6,
   "metadata": {},
   "outputs": [],
   "source": [
    "t1 = 0.0\n",
    "t2 = 1\n",
    "t = np.linspace(t1, t2, 100)\n",
    "\n",
    "R = 130\n",
    "alpha = 39\n",
    "r_0 = 12.7\n",
    "alpha_0 = 7.5\n",
    "\n",
    "m = 0.8\n",
    "r = 0.3\n",
    "q = 3.7\n",
    "k = 1.8\n",
    "b = 0.3\n",
    "\n",
    "x = Xt(t=t, k=k, alpha_0=alpha_0, r_0=r_0, alpha=alpha, q=q, r=r, m=m, b=b, R=R)\n",
    "y = Yt(t=t, k=k, alpha_0=alpha_0, r_0=r_0, alpha=alpha, q=q, r=r, m=m, b=b, R=R)"
   ]
  },
  {
   "cell_type": "code",
   "execution_count": 7,
   "metadata": {},
   "outputs": [
    {
     "data": {
      "image/png": "[encoded data removed]",
      "text/plain": [
       "<Figure size 640x480 with 1 Axes>"
      ]
     },
     "metadata": {},
     "output_type": "display_data"
    }
   ],
   "source": [
    "%matplotlib inline\n",
    "\n",
    "\n",
    "plt.plot(x, y, \"b\", label=\"R-OSSE curve\")\n",
    "plt.grid()\n",
    "ax = plt.gca()\n",
    "ax.set_aspect(\"equal\")\n",
    "plt.legend()\n",
    "plt.draw()\n",
    "plt.show()"
   ]
  }
 ],
 "metadata": {
  "kernelspec": {
   "display_name": "addit",
   "language": "python",
   "name": "python3"
  },
  "language_info": {
   "codemirror_mode": {
    "name": "ipython",
    "version": 3
   },
   "file_extension": ".py",
   "mimetype": "text/x-python",
   "name": "python",
   "nbconvert_exporter": "python",
   "pygments_lexer": "ipython3",
   "version": "3.11.8"
  }
 },
 "nbformat": 4,
 "nbformat_minor": 2
}
