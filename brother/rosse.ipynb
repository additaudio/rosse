{
 "cells": [
  {
   "cell_type": "code",
   "execution_count": 2,
   "metadata": {},
   "outputs": [],
   "source": [
    "import numpy as np\n",
    "from matplotlib import pyplot as plt"
   ]
  },
  {
   "cell_type": "code",
   "execution_count": 3,
   "metadata": {},
   "outputs": [],
   "source": [
    "def degrees_to_radian(angle):\n",
    "    return angle / 360 * 2 * np.pi\n",
    "\n",
    "\n",
    "def common_parameters(k, alpha_0, r_0, alpha, R):\n",
    "    alpha_0 = degrees_to_radian(alpha_0)\n",
    "    alpha = degrees_to_radian(alpha)\n",
    "    c_1 = (k * r_0) ** 2\n",
    "    c_2 = 2 * k * r_0 * np.tan(alpha_0)\n",
    "    c_3 = np.tan(alpha) ** 2\n",
    "    L = (1 / (2 * c_3)) * np.sqrt(\n",
    "        c_2**2 - 4 * c_3 * (c_1 - (R + r_0 * (k - 1)) ** 2)\n",
    "    ) - c_2\n",
    "    return c_1, c_2, c_3, L\n",
    "\n",
    "\n",
    "def Xt(\n",
    "    t,\n",
    "    k,\n",
    "    alpha_0,\n",
    "    r_0,\n",
    "    alpha,\n",
    "    q,\n",
    "    r,\n",
    "    m,\n",
    "    b,\n",
    "    R,\n",
    "):\n",
    "    c_1, c_2, c_3, L = common_parameters(k, alpha_0, r_0, alpha, R)\n",
    "    x_1 = L * (np.sqrt(r**2 + m**2) - np.sqrt(r**2 + (t - m) ** 2))\n",
    "    x_2 = b * L * (np.sqrt(r**2 + (1 - m) ** 2) - np.sqrt(r**2 + m**2)) * t**2\n",
    "    return x_1 + x_2\n",
    "\n",
    "\n",
    "def Yt(\n",
    "    t,\n",
    "    k,\n",
    "    alpha_0,\n",
    "    r_0,\n",
    "    alpha,\n",
    "    q,\n",
    "    r,\n",
    "    m,\n",
    "    b,\n",
    "    R,\n",
    "):\n",
    "    c_1, c_2, c_3, L = common_parameters(k, alpha_0, r_0, alpha, R)\n",
    "    y_1 = np.sqrt(c_1 + c_2 * L * t + c_3 * (L * t) ** 2) + r_0 * (1 - k)\n",
    "    y_2 = R + L * (1 - np.sqrt(1 + c_3 * (t - 1) ** 2))\n",
    "    return (1 - t**q) * y_1 + (t**q) * y_2"
   ]
  },
  {
   "cell_type": "markdown",
   "metadata": {},
   "source": [
    "Vertical curve"
   ]
  },
  {
   "cell_type": "code",
   "execution_count": 4,
   "metadata": {},
   "outputs": [],
   "source": [
    "t1 = 0.0\n",
    "t2 = 0.90\n",
    "t = np.linspace(t1, t2, 100)"
   ]
  },
  {
   "cell_type": "code",
   "execution_count": 5,
   "metadata": {},
   "outputs": [],
   "source": [
    "R = 500\n",
    "alpha = 20\n",
    "r_0 = 17.9\n",
    "alpha_0 = 23\n",
    "\n",
    "m = 0.8\n",
    "r = 0.5\n",
    "q = 2.9\n",
    "k = 1.3\n",
    "b = 0.3\n",
    "\n",
    "vx = Xt(t=t, k=k, alpha_0=alpha_0, r_0=r_0, alpha=alpha,q=q,r=r,m=m,b=b,R=R)\n",
    "vy = Yt(t=t,k=k,alpha_0=alpha_0,r_0=r_0,alpha=alpha,q=q,r=r,m=m,b=b,R=R)"
   ]
  },
  {
   "cell_type": "markdown",
   "metadata": {},
   "source": [
    "Horizontal"
   ]
  },
  {
   "cell_type": "code",
   "execution_count": 6,
   "metadata": {},
   "outputs": [],
   "source": [
    "R = 700\n",
    "alpha = 35\n",
    "r_0 = 17.9\n",
    "alpha_0 = 23\n",
    "\n",
    "m = 0.8\n",
    "r = 0.5\n",
    "q = 2.9\n",
    "k = 1.3\n",
    "b = 0.3\n",
    "\n",
    "\n",
    "hx = Xt(t=t,k=k,alpha_0=alpha_0,r_0=r_0,alpha=alpha, q=q, r=r, m=m, b=b, R=R)\n",
    "hy = Yt(t=t,k=k,alpha_0=alpha_0,r_0=r_0,alpha=alpha,q=q,r=r,m=m,b=b,R=R)"
   ]
  },
  {
   "cell_type": "code",
   "execution_count": 7,
   "metadata": {},
   "outputs": [
    {
     "data": {
      "image/png": "[encoded data removed]",
      "text/plain": [
       "<Figure size 640x480 with 1 Axes>"
      ]
     },
     "metadata": {},
     "output_type": "display_data"
    }
   ],
   "source": [
    "%matplotlib inline\n",
    "\n",
    "\n",
    "plt.plot(vx, vy, 'k', label=\"vertical\")\n",
    "plt.plot(hx, hy, 'r', label=\"horizontal\")\n",
    "plt.grid()\n",
    "ax = plt.gca()\n",
    "ax.set_aspect(\"equal\")\n",
    "plt.legend()\n",
    "plt.draw()\n",
    "plt.show()"
   ]
  },
  {
   "cell_type": "code",
   "execution_count": 8,
   "metadata": {},
   "outputs": [],
   "source": [
    "def calc_mouth_area_from_throat_distance(\n",
    "    distance_from_throat: float, h_rosse_x: np.ndarray, h_rosse_y: np.ndarray, v_rosse_x: np.ndarray, v_rosse_y: np.ndarray\n",
    ") -> float:\n",
    "    difference_array_h = np.absolute(h_rosse_x - distance_from_throat)\n",
    "    difference_array_v = np.absolute(v_rosse_x - distance_from_throat)\n",
    "    index_h = difference_array_h.argmin()\n",
    "    index_v = difference_array_v.argmin()\n",
    "    radius_h = h_rosse_y[index_h] / 10 \n",
    "    radius_v = v_rosse_y[index_v] / 10\n",
    "    return np.pi * radius_h * radius_v"
   ]
  },
  {
   "cell_type": "code",
   "execution_count": 9,
   "metadata": {},
   "outputs": [],
   "source": [
    "def calc_hornresp_values(\n",
    "    entry_points: list[float], h_rosse_x: np.ndarray, h_rosse_y: np.ndarray, v_rosse_x: np.ndarray, v_rosse_y: np.ndarray\n",
    "):\n",
    "    input_hornresp = []\n",
    "    for i in range(1, len(entry_points)):\n",
    "        area_n_1 = calc_mouth_area_from_throat_distance(\n",
    "            entry_points[i - 1], h_rosse_x, h_rosse_y, v_rosse_x, v_rosse_y\n",
    "        )\n",
    "        area_n = calc_mouth_area_from_throat_distance(entry_points[i], h_rosse_x, h_rosse_y, v_rosse_x, v_rosse_y)\n",
    "        diff = (entry_points[i] - entry_points[i - 1])/10\n",
    "        rule = {f\"S{i}\": area_n_1, f\"S{i+1}\": area_n, \"Con\": diff }\n",
    "        input_hornresp.append(rule)\n",
    "    return input_hornresp"
   ]
  },
  {
   "cell_type": "code",
   "execution_count": 20,
   "metadata": {},
   "outputs": [],
   "source": [
    "entry_points = [0, 40, 70, 290, 410]"
   ]
  },
  {
   "cell_type": "code",
   "execution_count": 21,
   "metadata": {},
   "outputs": [
    {
     "data": {
      "text/plain": [
       "[{'S1': 10.065977021367054, 'S2': 51.92892984471506, 'Con': 4.0},\n",
       " {'S2': 51.92892984471506, 'S3': 110.92324180310344, 'Con': 3.0},\n",
       " {'S3': 110.92324180310344, 'S4': 1721.632478977937, 'Con': 22.0},\n",
       " {'S4': 1721.632478977937, 'S5': 4521.884940996687, 'Con': 12.0}]"
      ]
     },
     "execution_count": 21,
     "metadata": {},
     "output_type": "execute_result"
    }
   ],
   "source": [
    "calc_hornresp_values(entry_points, vx, vy, hx, hy)"
   ]
  },
  {
   "cell_type": "code",
   "execution_count": null,
   "metadata": {},
   "outputs": [],
   "source": []
  },
  {
   "cell_type": "code",
   "execution_count": null,
   "metadata": {},
   "outputs": [],
   "source": []
  }
 ],
 "metadata": {
  "kernelspec": {
   "display_name": "addit",
   "language": "python",
   "name": "python3"
  },
  "language_info": {
   "codemirror_mode": {
    "name": "ipython",
    "version": 3
   },
   "file_extension": ".py",
   "mimetype": "text/x-python",
   "name": "python",
   "nbconvert_exporter": "python",
   "pygments_lexer": "ipython3",
   "version": "3.11.8"
  }
 },
 "nbformat": 4,
 "nbformat_minor": 2
}
